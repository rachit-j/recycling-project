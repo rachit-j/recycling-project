{
 "cells": [
  {
   "cell_type": "code",
   "execution_count": 5,
   "metadata": {},
   "outputs": [
    {
     "ename": "ModuleNotFoundError",
     "evalue": "No module named 'PIL'",
     "output_type": "error",
     "traceback": [
      "\u001b[0;31m---------------------------------------------------------------------------\u001b[0m",
      "\u001b[0;31mModuleNotFoundError\u001b[0m                       Traceback (most recent call last)",
      "\u001b[1;32m/Users/rachitjaiswal/Desktop/Python/Horizon/project.ipynb Cell 1\u001b[0m line \u001b[0;36m2\n\u001b[1;32m      <a href='vscode-notebook-cell:/Users/rachitjaiswal/Desktop/Python/Horizon/project.ipynb#W0sZmlsZQ%3D%3D?line=0'>1</a>\u001b[0m \u001b[39mimport\u001b[39;00m \u001b[39mos\u001b[39;00m\n\u001b[0;32m----> <a href='vscode-notebook-cell:/Users/rachitjaiswal/Desktop/Python/Horizon/project.ipynb#W0sZmlsZQ%3D%3D?line=1'>2</a>\u001b[0m \u001b[39mimport\u001b[39;00m \u001b[39mPIL\u001b[39;00m\n\u001b[1;32m      <a href='vscode-notebook-cell:/Users/rachitjaiswal/Desktop/Python/Horizon/project.ipynb#W0sZmlsZQ%3D%3D?line=2'>3</a>\u001b[0m \u001b[39mimport\u001b[39;00m \u001b[39mPIL\u001b[39;00m\u001b[39m.\u001b[39;00m\u001b[39mImage\u001b[39;00m\n\u001b[1;32m      <a href='vscode-notebook-cell:/Users/rachitjaiswal/Desktop/Python/Horizon/project.ipynb#W0sZmlsZQ%3D%3D?line=3'>4</a>\u001b[0m \u001b[39mimport\u001b[39;00m \u001b[39mtensorflow\u001b[39;00m \u001b[39mas\u001b[39;00m \u001b[39mtf\u001b[39;00m\n",
      "\u001b[0;31mModuleNotFoundError\u001b[0m: No module named 'PIL'"
     ]
    }
   ],
   "source": [
    "import numpy as np\n",
    "import os\n",
    "import PIL\n",
    "import PIL.Image\n",
    "import tensorflow as tf\n",
    "import pathlib\n",
    "\n",
    "data_dir = pathlib.Path(\"/Users/rachitjaiswal/Desktop/Python/Horizon/Project/Warp-C/train_crops/bottle/bottle-blue/\").with_suffix('')\n",
    "\n",
    "image_count = len(list(data_dir.glob('*.jpg')))\n",
    "print(image_count)\n",
    "blue_bottle = list(data_dir.glob('*'))\n",
    "PIL.Image.open(str(blue_bottle[600]))\n"
   ]
  },
  {
   "cell_type": "code",
   "execution_count": null,
   "metadata": {},
   "outputs": [],
   "source": [
    "import pandas as pd\n",
    "import numpy as np\n",
    "import matplotlib.pyplot as plt\n",
    "from tensorflow.keras.datasets import mnist\n",
    "from tensorflow.keras.utils import to_categorical\n",
    "from tensorflow.keras.models import Sequential\n",
    "from tensorflow.keras.layers import Dense, Conv2D, MaxPool2D, Flatten\n",
    "from tensorflow.keras.callbacks import EarlyStopping\n",
    "import keras"
   ]
  },
  {
   "cell_type": "code",
   "execution_count": null,
   "metadata": {},
   "outputs": [],
   "source": [
    "array = np.array(blue_bottle)"
   ]
  },
  {
   "cell_type": "code",
   "execution_count": null,
   "metadata": {},
   "outputs": [],
   "source": [
    "batch_size = 634\n",
    "img_height = 180\n",
    "img_width = 180"
   ]
  },
  {
   "cell_type": "code",
   "execution_count": null,
   "metadata": {},
   "outputs": [
    {
     "name": "stdout",
     "output_type": "stream",
     "text": [
      "Found 6519 files belonging to 20 classes.\n",
      "Using 5868 files for training.\n",
      "Found 6519 files belonging to 20 classes.\n",
      "Using 1303 files for validation.\n"
     ]
    }
   ],
   "source": [
    "train_ds = tf.keras.utils.image_dataset_from_directory(\n",
    "  \"/Users/rachitjaiswal/Desktop/Python/Horizon/Project/Warp-C/train_crops/bottle/\",\n",
    "  validation_split=0.1,\n",
    "  subset=\"training\",\n",
    "  seed=123,\n",
    "  image_size=(img_height, img_width),\n",
    "  batch_size=batch_size)\n",
    "\n",
    "val_ds = tf.keras.utils.image_dataset_from_directory(\n",
    "  \"/Users/rachitjaiswal/Desktop/Python/Horizon/Project/Warp-C/train_crops/bottle/\",\n",
    "  validation_split=0.2,\n",
    "  subset=\"validation\",\n",
    "  seed=123,\n",
    "  image_size=(img_height, img_width),\n",
    "  batch_size=batch_size)"
   ]
  },
  {
   "cell_type": "code",
   "execution_count": null,
   "metadata": {},
   "outputs": [
    {
     "name": "stdout",
     "output_type": "stream",
     "text": [
      "['bottle-blue', 'bottle-blue-full', 'bottle-blue5l', 'bottle-blue5l-full', 'bottle-dark', 'bottle-dark-full', 'bottle-green', 'bottle-green-full', 'bottle-milk', 'bottle-milk-full', 'bottle-multicolor', 'bottle-multicolorv-full', 'bottle-oil', 'bottle-oil-full', 'bottle-transp', 'bottle-transp-full', 'bottle-yogurt', 'glass-dark', 'glass-green', 'glass-transp']\n"
     ]
    }
   ],
   "source": [
    "class_names = train_ds.class_names\n",
    "print(class_names)"
   ]
  },
  {
   "cell_type": "code",
   "execution_count": null,
   "metadata": {},
   "outputs": [
    {
     "ename": "ModuleNotFoundError",
     "evalue": "No module named 'matplotlib'",
     "output_type": "error",
     "traceback": [
      "\u001b[0;31m---------------------------------------------------------------------------\u001b[0m",
      "\u001b[0;31mModuleNotFoundError\u001b[0m                       Traceback (most recent call last)",
      "\u001b[1;32m/Users/rachitjaiswal/Desktop/Python/Horizon/project.ipynb Cell 7\u001b[0m line \u001b[0;36m1\n\u001b[0;32m----> <a href='vscode-notebook-cell:/Users/rachitjaiswal/Desktop/Python/Horizon/project.ipynb#W6sZmlsZQ%3D%3D?line=0'>1</a>\u001b[0m \u001b[39mimport\u001b[39;00m \u001b[39mmatplotlib\u001b[39;00m\u001b[39m.\u001b[39;00m\u001b[39mpyplot\u001b[39;00m \u001b[39mas\u001b[39;00m \u001b[39mplt\u001b[39;00m\n\u001b[1;32m      <a href='vscode-notebook-cell:/Users/rachitjaiswal/Desktop/Python/Horizon/project.ipynb#W6sZmlsZQ%3D%3D?line=2'>3</a>\u001b[0m plt\u001b[39m.\u001b[39mfigure(figsize\u001b[39m=\u001b[39m(\u001b[39m10\u001b[39m, \u001b[39m10\u001b[39m))\n\u001b[1;32m      <a href='vscode-notebook-cell:/Users/rachitjaiswal/Desktop/Python/Horizon/project.ipynb#W6sZmlsZQ%3D%3D?line=3'>4</a>\u001b[0m \u001b[39mfor\u001b[39;00m images, labels \u001b[39min\u001b[39;00m train_ds\u001b[39m.\u001b[39mtake(\u001b[39m1\u001b[39m):\n",
      "\u001b[0;31mModuleNotFoundError\u001b[0m: No module named 'matplotlib'"
     ]
    }
   ],
   "source": [
    "import matplotlib.pyplot as plt\n",
    "\n",
    "plt.figure(figsize=(10, 10))\n",
    "for images, labels in train_ds.take(1):\n",
    "  for i in range(9):\n",
    "    ax = plt.subplot(3, 3, i + 1)\n",
    "    plt.imshow(images[i].numpy().astype(\"uint8\"))\n",
    "    plt.title(class_names[labels[i]])\n",
    "    plt.axis(\"off\")"
   ]
  },
  {
   "cell_type": "code",
   "execution_count": null,
   "metadata": {},
   "outputs": [],
   "source": [
    "normalization_layer = tf.keras.layers.Rescaling(1./255)\n",
    "\n",
    "AUTOTUNE = tf.data.AUTOTUNE\n",
    "\n",
    "train_ds = train_ds.cache().prefetch(buffer_size=AUTOTUNE)\n",
    "val_ds = val_ds.cache().prefetch(buffer_size=AUTOTUNE)"
   ]
  },
  {
   "cell_type": "code",
   "execution_count": null,
   "metadata": {},
   "outputs": [],
   "source": [
    "num_classes = 20\n",
    "\n",
    "# try adding fewer layers, regularization video for overfitting\n",
    "# one fewer layer/two fewer layers\n",
    "\n",
    "model = tf.keras.Sequential([\n",
    "  tf.keras.layers.Rescaling(1./255),\n",
    "  tf.keras.layers.Conv2D(32, 3, activation='relu'),\n",
    "  tf.keras.layers.MaxPooling2D(),\n",
    "  tf.keras.layers.Conv2D(32, 3, activation='relu'),\n",
    "  tf.keras.layers.MaxPooling2D(),\n",
    "  tf.keras.layers.Conv2D(32, 3, activation='relu'),\n",
    "  tf.keras.layers.MaxPooling2D(),\n",
    "  tf.keras.layers.Flatten(),\n",
    "  tf.keras.layers.Dense(128, activation='relu'),\n",
    "  tf.keras.layers.Dense(num_classes)\n",
    "])"
   ]
  },
  {
   "cell_type": "code",
   "execution_count": null,
   "metadata": {},
   "outputs": [],
   "source": [
    "model.compile(\n",
    "  optimizer='adam',\n",
    "  loss=tf.keras.losses.SparseCategoricalCrossentropy(from_logits=True),\n",
    "  metrics=['accuracy'])"
   ]
  },
  {
   "cell_type": "code",
   "execution_count": null,
   "metadata": {},
   "outputs": [
    {
     "name": "stdout",
     "output_type": "stream",
     "text": [
      "Epoch 1/24\n",
      "10/10 [==============================] - 53s 5s/step - loss: 2.7501 - accuracy: 0.1708 - val_loss: 2.6217 - val_accuracy: 0.2226\n",
      "Epoch 2/24\n",
      "10/10 [==============================] - 50s 5s/step - loss: 2.5210 - accuracy: 0.2490 - val_loss: 2.3937 - val_accuracy: 0.2932\n",
      "Epoch 3/24\n",
      "10/10 [==============================] - 55s 5s/step - loss: 2.2870 - accuracy: 0.3195 - val_loss: 2.1656 - val_accuracy: 0.3576\n",
      "Epoch 4/24\n",
      "10/10 [==============================] - 54s 5s/step - loss: 2.0869 - accuracy: 0.3609 - val_loss: 1.9723 - val_accuracy: 0.3975\n",
      "Epoch 5/24\n",
      "10/10 [==============================] - 45s 4s/step - loss: 1.9335 - accuracy: 0.3978 - val_loss: 1.8835 - val_accuracy: 0.4160\n",
      "Epoch 6/24\n",
      "10/10 [==============================] - 53s 5s/step - loss: 1.8190 - accuracy: 0.4208 - val_loss: 1.7678 - val_accuracy: 0.4421\n",
      "Epoch 7/24\n",
      "10/10 [==============================] - 53s 5s/step - loss: 1.7121 - accuracy: 0.4448 - val_loss: 1.6974 - val_accuracy: 0.4605\n",
      "Epoch 8/24\n",
      "10/10 [==============================] - 52s 5s/step - loss: 1.6210 - accuracy: 0.4683 - val_loss: 1.6502 - val_accuracy: 0.4666\n",
      "Epoch 9/24\n",
      "10/10 [==============================] - 51s 5s/step - loss: 1.5459 - accuracy: 0.4879 - val_loss: 1.5727 - val_accuracy: 0.4789\n",
      "Epoch 10/24\n",
      "10/10 [==============================] - 54s 5s/step - loss: 1.4706 - accuracy: 0.5094 - val_loss: 1.5071 - val_accuracy: 0.5035\n",
      "Epoch 11/24\n",
      "10/10 [==============================] - 51s 5s/step - loss: 1.3546 - accuracy: 0.5481 - val_loss: 1.4698 - val_accuracy: 0.5180\n",
      "Epoch 12/24\n",
      "10/10 [==============================] - 53s 5s/step - loss: 1.2889 - accuracy: 0.5740 - val_loss: 1.4693 - val_accuracy: 0.5134\n",
      "Epoch 13/24\n",
      "10/10 [==============================] - 51s 5s/step - loss: 1.2212 - accuracy: 0.5975 - val_loss: 1.4669 - val_accuracy: 0.5257\n",
      "Epoch 14/24\n",
      "10/10 [==============================] - 53s 5s/step - loss: 1.1434 - accuracy: 0.6210 - val_loss: 1.5579 - val_accuracy: 0.4965\n",
      "Epoch 15/24\n",
      "10/10 [==============================] - 54s 5s/step - loss: 1.1373 - accuracy: 0.6288 - val_loss: 1.3726 - val_accuracy: 0.5679\n",
      "Epoch 16/24\n",
      "10/10 [==============================] - 55s 5s/step - loss: 1.0827 - accuracy: 0.6362 - val_loss: 1.3928 - val_accuracy: 0.5480\n",
      "Epoch 17/24\n",
      "10/10 [==============================] - 51s 5s/step - loss: 0.9824 - accuracy: 0.6719 - val_loss: 1.3785 - val_accuracy: 0.5533\n",
      "Epoch 18/24\n",
      "10/10 [==============================] - 62s 6s/step - loss: 0.9441 - accuracy: 0.6835 - val_loss: 1.4183 - val_accuracy: 0.5495\n",
      "Epoch 19/24\n",
      "10/10 [==============================] - 67s 6s/step - loss: 0.9680 - accuracy: 0.6665 - val_loss: 1.3768 - val_accuracy: 0.5510\n",
      "Epoch 20/24\n",
      "10/10 [==============================] - 56s 5s/step - loss: 0.9299 - accuracy: 0.6822 - val_loss: 1.3407 - val_accuracy: 0.5610\n",
      "Epoch 21/24\n",
      "10/10 [==============================] - 49s 5s/step - loss: 0.8417 - accuracy: 0.7180 - val_loss: 1.2913 - val_accuracy: 0.5848\n",
      "Epoch 22/24\n",
      "10/10 [==============================] - 50s 5s/step - loss: 0.7612 - accuracy: 0.7480 - val_loss: 1.3009 - val_accuracy: 0.5948\n",
      "Epoch 23/24\n",
      "10/10 [==============================] - 46s 5s/step - loss: 0.6861 - accuracy: 0.7762 - val_loss: 1.3909 - val_accuracy: 0.5840\n",
      "Epoch 24/24\n",
      "10/10 [==============================] - 47s 5s/step - loss: 0.6827 - accuracy: 0.7752 - val_loss: 1.6778 - val_accuracy: 0.5265\n"
     ]
    },
    {
     "data": {
      "text/plain": [
       "<keras.src.callbacks.History at 0x28a023760>"
      ]
     },
     "execution_count": 12,
     "metadata": {},
     "output_type": "execute_result"
    }
   ],
   "source": [
    "model.fit(\n",
    "  train_ds,\n",
    "  validation_data=val_ds,\n",
    "  epochs=24\n",
    ")"
   ]
  },
  {
   "cell_type": "code",
   "execution_count": null,
   "metadata": {},
   "outputs": [
    {
     "name": "stdout",
     "output_type": "stream",
     "text": [
      "Model: \"sequential\"\n",
      "_________________________________________________________________\n",
      " Layer (type)                Output Shape              Param #   \n",
      "=================================================================\n",
      " rescaling_1 (Rescaling)     (None, 180, 180, 3)       0         \n",
      "                                                                 \n",
      " conv2d (Conv2D)             (None, 178, 178, 32)      896       \n",
      "                                                                 \n",
      " max_pooling2d (MaxPooling2  (None, 89, 89, 32)        0         \n",
      " D)                                                              \n",
      "                                                                 \n",
      " conv2d_1 (Conv2D)           (None, 87, 87, 32)        9248      \n",
      "                                                                 \n",
      " max_pooling2d_1 (MaxPoolin  (None, 43, 43, 32)        0         \n",
      " g2D)                                                            \n",
      "                                                                 \n",
      " conv2d_2 (Conv2D)           (None, 41, 41, 32)        9248      \n",
      "                                                                 \n",
      " max_pooling2d_2 (MaxPoolin  (None, 20, 20, 32)        0         \n",
      " g2D)                                                            \n",
      "                                                                 \n",
      " flatten (Flatten)           (None, 12800)             0         \n",
      "                                                                 \n",
      " dense (Dense)               (None, 128)               1638528   \n",
      "                                                                 \n",
      " dense_1 (Dense)             (None, 20)                2580      \n",
      "                                                                 \n",
      "=================================================================\n",
      "Total params: 1660500 (6.33 MB)\n",
      "Trainable params: 1660500 (6.33 MB)\n",
      "Non-trainable params: 0 (0.00 Byte)\n",
      "_________________________________________________________________\n"
     ]
    }
   ],
   "source": [
    "model.metrics_names\n",
    "model.summary()"
   ]
  },
  {
   "cell_type": "code",
   "execution_count": null,
   "metadata": {},
   "outputs": [],
   "source": [
    "losses = pd.DataFrame(model.history.history)"
   ]
  },
  {
   "cell_type": "code",
   "execution_count": null,
   "metadata": {},
   "outputs": [
    {
     "data": {
      "text/html": [
       "<div>\n",
       "<style scoped>\n",
       "    .dataframe tbody tr th:only-of-type {\n",
       "        vertical-align: middle;\n",
       "    }\n",
       "\n",
       "    .dataframe tbody tr th {\n",
       "        vertical-align: top;\n",
       "    }\n",
       "\n",
       "    .dataframe thead th {\n",
       "        text-align: right;\n",
       "    }\n",
       "</style>\n",
       "<table border=\"1\" class=\"dataframe\">\n",
       "  <thead>\n",
       "    <tr style=\"text-align: right;\">\n",
       "      <th></th>\n",
       "      <th>loss</th>\n",
       "      <th>accuracy</th>\n",
       "      <th>val_loss</th>\n",
       "      <th>val_accuracy</th>\n",
       "    </tr>\n",
       "  </thead>\n",
       "  <tbody>\n",
       "    <tr>\n",
       "      <th>0</th>\n",
       "      <td>2.750091</td>\n",
       "      <td>0.170757</td>\n",
       "      <td>2.621690</td>\n",
       "      <td>0.222563</td>\n",
       "    </tr>\n",
       "    <tr>\n",
       "      <th>1</th>\n",
       "      <td>2.521049</td>\n",
       "      <td>0.248978</td>\n",
       "      <td>2.393680</td>\n",
       "      <td>0.293170</td>\n",
       "    </tr>\n",
       "    <tr>\n",
       "      <th>2</th>\n",
       "      <td>2.287046</td>\n",
       "      <td>0.319530</td>\n",
       "      <td>2.165617</td>\n",
       "      <td>0.357636</td>\n",
       "    </tr>\n",
       "    <tr>\n",
       "      <th>3</th>\n",
       "      <td>2.086893</td>\n",
       "      <td>0.360941</td>\n",
       "      <td>1.972345</td>\n",
       "      <td>0.397544</td>\n",
       "    </tr>\n",
       "    <tr>\n",
       "      <th>4</th>\n",
       "      <td>1.933495</td>\n",
       "      <td>0.397750</td>\n",
       "      <td>1.883525</td>\n",
       "      <td>0.415963</td>\n",
       "    </tr>\n",
       "    <tr>\n",
       "      <th>5</th>\n",
       "      <td>1.819041</td>\n",
       "      <td>0.420757</td>\n",
       "      <td>1.767761</td>\n",
       "      <td>0.442057</td>\n",
       "    </tr>\n",
       "    <tr>\n",
       "      <th>6</th>\n",
       "      <td>1.712092</td>\n",
       "      <td>0.444785</td>\n",
       "      <td>1.697430</td>\n",
       "      <td>0.460476</td>\n",
       "    </tr>\n",
       "    <tr>\n",
       "      <th>7</th>\n",
       "      <td>1.621031</td>\n",
       "      <td>0.468303</td>\n",
       "      <td>1.650206</td>\n",
       "      <td>0.466615</td>\n",
       "    </tr>\n",
       "    <tr>\n",
       "      <th>8</th>\n",
       "      <td>1.545869</td>\n",
       "      <td>0.487900</td>\n",
       "      <td>1.572666</td>\n",
       "      <td>0.478895</td>\n",
       "    </tr>\n",
       "    <tr>\n",
       "      <th>9</th>\n",
       "      <td>1.470591</td>\n",
       "      <td>0.509373</td>\n",
       "      <td>1.507079</td>\n",
       "      <td>0.503454</td>\n",
       "    </tr>\n",
       "    <tr>\n",
       "      <th>10</th>\n",
       "      <td>1.354617</td>\n",
       "      <td>0.548057</td>\n",
       "      <td>1.469809</td>\n",
       "      <td>0.518035</td>\n",
       "    </tr>\n",
       "    <tr>\n",
       "      <th>11</th>\n",
       "      <td>1.288873</td>\n",
       "      <td>0.573960</td>\n",
       "      <td>1.469306</td>\n",
       "      <td>0.513431</td>\n",
       "    </tr>\n",
       "    <tr>\n",
       "      <th>12</th>\n",
       "      <td>1.221169</td>\n",
       "      <td>0.597478</td>\n",
       "      <td>1.466950</td>\n",
       "      <td>0.525710</td>\n",
       "    </tr>\n",
       "    <tr>\n",
       "      <th>13</th>\n",
       "      <td>1.143424</td>\n",
       "      <td>0.620995</td>\n",
       "      <td>1.557881</td>\n",
       "      <td>0.496546</td>\n",
       "    </tr>\n",
       "    <tr>\n",
       "      <th>14</th>\n",
       "      <td>1.137272</td>\n",
       "      <td>0.628834</td>\n",
       "      <td>1.372635</td>\n",
       "      <td>0.567920</td>\n",
       "    </tr>\n",
       "    <tr>\n",
       "      <th>15</th>\n",
       "      <td>1.082683</td>\n",
       "      <td>0.636162</td>\n",
       "      <td>1.392776</td>\n",
       "      <td>0.547966</td>\n",
       "    </tr>\n",
       "    <tr>\n",
       "      <th>16</th>\n",
       "      <td>0.982389</td>\n",
       "      <td>0.671950</td>\n",
       "      <td>1.378483</td>\n",
       "      <td>0.553338</td>\n",
       "    </tr>\n",
       "    <tr>\n",
       "      <th>17</th>\n",
       "      <td>0.944085</td>\n",
       "      <td>0.683538</td>\n",
       "      <td>1.418344</td>\n",
       "      <td>0.549501</td>\n",
       "    </tr>\n",
       "    <tr>\n",
       "      <th>18</th>\n",
       "      <td>0.968013</td>\n",
       "      <td>0.666496</td>\n",
       "      <td>1.376769</td>\n",
       "      <td>0.551036</td>\n",
       "    </tr>\n",
       "    <tr>\n",
       "      <th>19</th>\n",
       "      <td>0.929949</td>\n",
       "      <td>0.682175</td>\n",
       "      <td>1.340691</td>\n",
       "      <td>0.561013</td>\n",
       "    </tr>\n",
       "    <tr>\n",
       "      <th>20</th>\n",
       "      <td>0.841657</td>\n",
       "      <td>0.717962</td>\n",
       "      <td>1.291308</td>\n",
       "      <td>0.584804</td>\n",
       "    </tr>\n",
       "    <tr>\n",
       "      <th>21</th>\n",
       "      <td>0.761198</td>\n",
       "      <td>0.747955</td>\n",
       "      <td>1.300934</td>\n",
       "      <td>0.594781</td>\n",
       "    </tr>\n",
       "    <tr>\n",
       "      <th>22</th>\n",
       "      <td>0.686082</td>\n",
       "      <td>0.776244</td>\n",
       "      <td>1.390924</td>\n",
       "      <td>0.584037</td>\n",
       "    </tr>\n",
       "    <tr>\n",
       "      <th>23</th>\n",
       "      <td>0.682670</td>\n",
       "      <td>0.775222</td>\n",
       "      <td>1.677817</td>\n",
       "      <td>0.526477</td>\n",
       "    </tr>\n",
       "  </tbody>\n",
       "</table>\n",
       "</div>"
      ],
      "text/plain": [
       "        loss  accuracy  val_loss  val_accuracy\n",
       "0   2.750091  0.170757  2.621690      0.222563\n",
       "1   2.521049  0.248978  2.393680      0.293170\n",
       "2   2.287046  0.319530  2.165617      0.357636\n",
       "3   2.086893  0.360941  1.972345      0.397544\n",
       "4   1.933495  0.397750  1.883525      0.415963\n",
       "5   1.819041  0.420757  1.767761      0.442057\n",
       "6   1.712092  0.444785  1.697430      0.460476\n",
       "7   1.621031  0.468303  1.650206      0.466615\n",
       "8   1.545869  0.487900  1.572666      0.478895\n",
       "9   1.470591  0.509373  1.507079      0.503454\n",
       "10  1.354617  0.548057  1.469809      0.518035\n",
       "11  1.288873  0.573960  1.469306      0.513431\n",
       "12  1.221169  0.597478  1.466950      0.525710\n",
       "13  1.143424  0.620995  1.557881      0.496546\n",
       "14  1.137272  0.628834  1.372635      0.567920\n",
       "15  1.082683  0.636162  1.392776      0.547966\n",
       "16  0.982389  0.671950  1.378483      0.553338\n",
       "17  0.944085  0.683538  1.418344      0.549501\n",
       "18  0.968013  0.666496  1.376769      0.551036\n",
       "19  0.929949  0.682175  1.340691      0.561013\n",
       "20  0.841657  0.717962  1.291308      0.584804\n",
       "21  0.761198  0.747955  1.300934      0.594781\n",
       "22  0.686082  0.776244  1.390924      0.584037\n",
       "23  0.682670  0.775222  1.677817      0.526477"
      ]
     },
     "execution_count": 15,
     "metadata": {},
     "output_type": "execute_result"
    }
   ],
   "source": [
    "losses"
   ]
  },
  {
   "cell_type": "code",
   "execution_count": null,
   "metadata": {},
   "outputs": [
    {
     "data": {
      "text/plain": [
       "<AxesSubplot: >"
      ]
     },
     "execution_count": 16,
     "metadata": {},
     "output_type": "execute_result"
    },
    {
     "data": {
      "image/png": "[encoded data removed]",
      "text/plain": [
       "<Figure size 640x480 with 1 Axes>"
      ]
     },
     "metadata": {},
     "output_type": "display_data"
    }
   ],
   "source": [
    "losses[['accuracy','val_accuracy']].plot()"
   ]
  },
  {
   "cell_type": "code",
   "execution_count": null,
   "metadata": {},
   "outputs": [
    {
     "data": {
      "text/plain": [
       "<AxesSubplot: >"
      ]
     },
     "execution_count": 17,
     "metadata": {},
     "output_type": "execute_result"
    },
    {
     "data": {
      "image/png": "[encoded data removed]",
      "text/plain": [
       "<Figure size 640x480 with 1 Axes>"
      ]
     },
     "metadata": {},
     "output_type": "display_data"
    }
   ],
   "source": [
    "losses[['loss','val_loss']].plot()"
   ]
  },
  {
   "cell_type": "code",
   "execution_count": null,
   "metadata": {},
   "outputs": [],
   "source": [
    "import cv2\n",
    "cap = cv2.VideoCapture(0)\n"
   ]
  }
 ],
 "metadata": {
  "kernelspec": {
   "display_name": "Python 3",
   "language": "python",
   "name": "python3"
  },
  "language_info": {
   "codemirror_mode": {
    "name": "ipython",
    "version": 3
   },
   "file_extension": ".py",
   "mimetype": "text/x-python",
   "name": "python",
   "nbconvert_exporter": "python",
   "pygments_lexer": "ipython3",
   "version": "3.11.4"
  },
  "orig_nbformat": 4
 },
 "nbformat": 4,
 "nbformat_minor": 2
}
